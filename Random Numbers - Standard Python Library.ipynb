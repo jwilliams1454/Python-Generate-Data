{
 "cells": [
  {
   "cell_type": "code",
   "execution_count": 2,
   "metadata": {},
   "outputs": [
    {
     "name": "stdout",
     "output_type": "stream",
     "text": [
      "0.13436424411240122 0.8474337369372327 0.763774618976614\n"
     ]
    }
   ],
   "source": [
    "## Random number generators\n",
    "# https://machinelearningmastery.com/how-to-generate-random-numbers-in-python/\n",
    "\n",
    "# Seed the Pseudorandom Number Generator\n",
    "#The function is deterministic, meaning given the same seed, \n",
    "# it will produce the same sequence of numbers every time.\n",
    "from random import seed\n",
    "from random import random\n",
    "# seed random number generator\n",
    "seed(1)\n",
    "# generate some random numbers\n",
    "print(random(), random(), random())"
   ]
  },
  {
   "cell_type": "code",
   "execution_count": 3,
   "metadata": {},
   "outputs": [
    {
     "name": "stdout",
     "output_type": "stream",
     "text": [
      "0.6229016948897019 0.7417869892607294 0.7951935655656966\n"
     ]
    }
   ],
   "source": [
    "# reset the seed\n",
    "seed(5)\n",
    "# generate some random numbers\n",
    "print(random(), random(), random())"
   ]
  },
  {
   "cell_type": "code",
   "execution_count": 4,
   "metadata": {},
   "outputs": [
    {
     "name": "stdout",
     "output_type": "stream",
     "text": [
      "0.13436424411240122 0.8474337369372327 0.763774618976614\n"
     ]
    }
   ],
   "source": [
    "# reset the seed\n",
    "seed(1)\n",
    "# generate some random numbers\n",
    "print(random(), random(), random())"
   ]
  },
  {
   "cell_type": "code",
   "execution_count": 5,
   "metadata": {},
   "outputs": [
    {
     "name": "stdout",
     "output_type": "stream",
     "text": [
      "0.13436424411240122\n",
      "0.8474337369372327\n",
      "0.763774618976614\n",
      "0.2550690257394217\n",
      "0.49543508709194095\n",
      "0.4494910647887381\n",
      "0.651592972722763\n",
      "0.7887233511355132\n",
      "0.0938595867742349\n",
      "0.02834747652200631\n"
     ]
    }
   ],
   "source": [
    "# Random Floating Point Values\n",
    "\n",
    "# generate random floating point values\n",
    "from random import seed\n",
    "from random import random\n",
    "# seed random number generator\n",
    "seed(1)\n",
    "# generate random numbers between 0-1\n",
    "for _ in range(10):\n",
    "\tvalue = random()\n",
    "\tprint(value)"
   ]
  },
  {
   "cell_type": "code",
   "execution_count": 14,
   "metadata": {},
   "outputs": [
    {
     "name": "stdout",
     "output_type": "stream",
     "text": [
      "2\n",
      "9\n",
      "1\n",
      "4\n",
      "1\n",
      "7\n",
      "7\n",
      "7\n",
      "10\n",
      "6\n"
     ]
    }
   ],
   "source": [
    "# Random Integer Values\n",
    "# Should generate 10 random integer values between 0 and 10.\n",
    "\n",
    "# generate random integer values\n",
    "from random import seed\n",
    "from random import randint\n",
    "\n",
    "# seed random number generator\n",
    "#The function is deterministic, meaning given the same seed, \n",
    "# it will produce the same sequence of numbers every time.\n",
    "seed(1)\n",
    "# generate some integers\n",
    "for _ in range(10):\n",
    "    value = randint(0, 10)\n",
    "    print(value)"
   ]
  },
  {
   "cell_type": "code",
   "execution_count": 15,
   "metadata": {},
   "outputs": [
    {
     "name": "stdout",
     "output_type": "stream",
     "text": [
      "3\n",
      "9\n",
      "8\n",
      "2\n",
      "5\n",
      "9\n",
      "7\n",
      "10\n",
      "9\n",
      "1\n"
     ]
    }
   ],
   "source": [
    "seed(3)\n",
    "# generate some integers\n",
    "for _ in range(10):\n",
    "    value = randint(0, 10)\n",
    "    print(value)"
   ]
  },
  {
   "cell_type": "code",
   "execution_count": 16,
   "metadata": {},
   "outputs": [
    {
     "name": "stdout",
     "output_type": "stream",
     "text": [
      "2\n",
      "9\n",
      "1\n",
      "4\n",
      "1\n",
      "7\n",
      "7\n",
      "7\n",
      "10\n",
      "6\n"
     ]
    }
   ],
   "source": [
    "seed(1)\n",
    "# generate some integers\n",
    "for _ in range(10):\n",
    "    value = randint(0, 10)\n",
    "    print(value)"
   ]
  },
  {
   "cell_type": "code",
   "execution_count": 17,
   "metadata": {},
   "outputs": [
    {
     "name": "stdout",
     "output_type": "stream",
     "text": [
      "1.2881847531554629\n",
      "1.449445608699771\n",
      "0.06633580893826191\n",
      "-0.7645436509716318\n",
      "-1.0921732151041414\n",
      "0.03133451683171687\n",
      "-1.022103170010873\n",
      "-1.4368294451025299\n",
      "0.19931197648375384\n",
      "0.13337460465860485\n"
     ]
    }
   ],
   "source": [
    "# Random Gaussian Values\n",
    "# Random floating point values drawn from a Gaussian distribution\n",
    "#The function is deterministic, meaning given the same seed, \n",
    "# it will produce the same sequence of numbers every time.\n",
    "\n",
    "# generate random Gaussian values\n",
    "from random import seed\n",
    "from random import gauss\n",
    "# seed random number generator\n",
    "seed(1)\n",
    "# generate some Gaussian values\n",
    "for _ in range(10):\n",
    "\tvalue = gauss(0, 1)\n",
    "\tprint(value)"
   ]
  },
  {
   "cell_type": "code",
   "execution_count": 18,
   "metadata": {},
   "outputs": [
    {
     "name": "stdout",
     "output_type": "stream",
     "text": [
      "1.2881847531554629\n",
      "1.449445608699771\n",
      "0.06633580893826191\n",
      "-0.7645436509716318\n",
      "-1.0921732151041414\n",
      "0.03133451683171687\n",
      "-1.022103170010873\n",
      "-1.4368294451025299\n",
      "0.19931197648375384\n",
      "0.13337460465860485\n"
     ]
    }
   ],
   "source": [
    "seed(1)\n",
    "# generate some Gaussian values\n",
    "for _ in range(10):\n",
    "\tvalue = gauss(0, 1)\n",
    "\tprint(value)"
   ]
  },
  {
   "cell_type": "code",
   "execution_count": 19,
   "metadata": {},
   "outputs": [
    {
     "name": "stdout",
     "output_type": "stream",
     "text": [
      "[0, 1, 2, 3, 4, 5, 6, 7, 8, 9, 10, 11, 12, 13, 14, 15, 16, 17, 18, 19]\n",
      "4\n",
      "18\n",
      "2\n",
      "8\n",
      "3\n"
     ]
    }
   ],
   "source": [
    "# Randomly Choosing From a List\n",
    "#The function is deterministic, meaning given the same seed, \n",
    "# it will produce the same sequence of numbers every time.\n",
    "\n",
    "# choose a random element from a list\n",
    "from random import seed\n",
    "from random import choice\n",
    "# seed random number generator\n",
    "seed(1)\n",
    "# prepare a sequence\n",
    "sequence = [i for i in range(20)]\n",
    "print(sequence)\n",
    "# make choices from the sequence\n",
    "for _ in range(5):\n",
    "\tselection = choice(sequence)\n",
    "\tprint(selection)"
   ]
  },
  {
   "cell_type": "code",
   "execution_count": 20,
   "metadata": {},
   "outputs": [
    {
     "name": "stdout",
     "output_type": "stream",
     "text": [
      "[0, 1, 2, 3, 4, 5, 6, 7, 8, 9, 10, 11, 12, 13, 14, 15, 16, 17, 18, 19]\n",
      "7\n",
      "18\n",
      "17\n",
      "4\n",
      "11\n"
     ]
    }
   ],
   "source": [
    "seed(3)\n",
    "# prepare a sequence\n",
    "sequence = [i for i in range(20)]\n",
    "print(sequence)\n",
    "# make choices from the sequence\n",
    "for _ in range(5):\n",
    "\tselection = choice(sequence)\n",
    "\tprint(selection)"
   ]
  },
  {
   "cell_type": "code",
   "execution_count": 21,
   "metadata": {},
   "outputs": [
    {
     "name": "stdout",
     "output_type": "stream",
     "text": [
      "[0, 1, 2, 3, 4, 5, 6, 7, 8, 9, 10, 11, 12, 13, 14, 15, 16, 17, 18, 19]\n",
      "4\n",
      "18\n",
      "2\n",
      "8\n",
      "3\n"
     ]
    }
   ],
   "source": [
    "seed(1)\n",
    "# prepare a sequence\n",
    "sequence = [i for i in range(20)]\n",
    "print(sequence)\n",
    "# make choices from the sequence\n",
    "for _ in range(5):\n",
    "\tselection = choice(sequence)\n",
    "\tprint(selection)"
   ]
  },
  {
   "cell_type": "code",
   "execution_count": 22,
   "metadata": {},
   "outputs": [
    {
     "name": "stdout",
     "output_type": "stream",
     "text": [
      "[0, 1, 2, 3, 4, 5, 6, 7, 8, 9, 10, 11, 12, 13, 14, 15, 16, 17, 18, 19]\n",
      "[4, 18, 2, 8, 3]\n"
     ]
    }
   ],
   "source": [
    "# Random Subsample From a List\n",
    "#The function is deterministic, meaning given the same seed, \n",
    "# it will produce the same sequence of numbers every time.\n",
    "\n",
    "# select a random sample without replacement\n",
    "from random import seed\n",
    "from random import sample\n",
    "# seed random number generator\n",
    "seed(1)\n",
    "# prepare a sequence\n",
    "sequence = [i for i in range(20)]\n",
    "print(sequence)\n",
    "# select a subset without replacement\n",
    "subset = sample(sequence, 5)\n",
    "print(subset)"
   ]
  },
  {
   "cell_type": "code",
   "execution_count": 23,
   "metadata": {},
   "outputs": [
    {
     "name": "stdout",
     "output_type": "stream",
     "text": [
      "[0, 1, 2, 3, 4, 5, 6, 7, 8, 9, 10, 11, 12, 13, 14, 15, 16, 17, 18, 19]\n",
      "[11, 5, 17, 19, 9, 0, 16, 1, 15, 6, 10, 13, 14, 12, 7, 3, 8, 2, 18, 4]\n"
     ]
    }
   ],
   "source": [
    "# Randomly Shuffle a List\n",
    "#The function is deterministic, meaning given the same seed, \n",
    "# it will produce the same sequence of numbers every time.\n",
    "\n",
    "# randomly shuffle a sequence\n",
    "from random import seed\n",
    "from random import shuffle\n",
    "# seed random number generator\n",
    "seed(1)\n",
    "# prepare a sequence\n",
    "sequence = [i for i in range(20)]\n",
    "print(sequence)\n",
    "# randomly shuffle the sequence\n",
    "shuffle(sequence)\n",
    "print(sequence)"
   ]
  },
  {
   "cell_type": "code",
   "execution_count": null,
   "metadata": {},
   "outputs": [],
   "source": []
  }
 ],
 "metadata": {
  "kernelspec": {
   "display_name": "Python 3",
   "language": "python",
   "name": "python3"
  },
  "language_info": {
   "codemirror_mode": {
    "name": "ipython",
    "version": 3
   },
   "file_extension": ".py",
   "mimetype": "text/x-python",
   "name": "python",
   "nbconvert_exporter": "python",
   "pygments_lexer": "ipython3",
   "version": "3.8.5"
  }
 },
 "nbformat": 4,
 "nbformat_minor": 4
}
