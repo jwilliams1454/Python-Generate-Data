{
 "cells": [
  {
   "cell_type": "code",
   "execution_count": 1,
   "metadata": {},
   "outputs": [],
   "source": [
    "# https://hackernoon.com/how-to-create-dummy-data-in-python-lpn37x1"
   ]
  },
  {
   "cell_type": "code",
   "execution_count": 2,
   "metadata": {},
   "outputs": [],
   "source": [
    "from faker import Faker\n",
    "\n",
    "fake = Faker()"
   ]
  },
  {
   "cell_type": "code",
   "execution_count": null,
   "metadata": {},
   "outputs": [],
   "source": []
  },
  {
   "cell_type": "code",
   "execution_count": null,
   "metadata": {},
   "outputs": [],
   "source": []
  },
  {
   "cell_type": "code",
   "execution_count": 3,
   "metadata": {},
   "outputs": [
    {
     "name": "stdout",
     "output_type": "stream",
     "text": [
      "Luke Smith\n",
      "Michele Moody\n",
      "Kenneth Chambers\n",
      "Jose Johnson\n",
      "Sherri Christian\n",
      "Whitney Murphy\n",
      "Rachel Gonzales\n",
      "Lisa Shaw\n",
      "Eric Webster\n",
      "Karl Farmer\n"
     ]
    }
   ],
   "source": [
    "# names\n",
    "for _ in range(10):\n",
    "   print(fake.name()) "
   ]
  },
  {
   "cell_type": "code",
   "execution_count": 6,
   "metadata": {},
   "outputs": [
    {
     "name": "stdout",
     "output_type": "stream",
     "text": [
      "Beck\n",
      "Swanson\n",
      "Brown\n",
      "Gomez\n",
      "Thornton\n",
      "Lewis\n",
      "Simon\n",
      "Fuller\n",
      "Miller\n",
      "Tate\n"
     ]
    }
   ],
   "source": [
    "# names\n",
    "for _ in range(10):\n",
    "   print(fake.last_name()) "
   ]
  },
  {
   "cell_type": "code",
   "execution_count": 7,
   "metadata": {},
   "outputs": [
    {
     "name": "stdout",
     "output_type": "stream",
     "text": [
      "Michelle\n",
      "Cynthia\n",
      "Anthony\n",
      "Amy\n",
      "Jennifer\n",
      "Ashley\n",
      "Thomas\n",
      "Seth\n",
      "Kevin\n",
      "Matthew\n"
     ]
    }
   ],
   "source": [
    "# names\n",
    "for _ in range(10):\n",
    "   print(fake.first_name()) "
   ]
  },
  {
   "cell_type": "code",
   "execution_count": 8,
   "metadata": {},
   "outputs": [
    {
     "name": "stdout",
     "output_type": "stream",
     "text": [
      "2019-10-31\n",
      "02\n",
      "2022-06-11 14:36:52\n",
      "1977\n",
      "June\n",
      "2022-01-12 17:39:02\n",
      "00:46:09\n",
      "Europe/Podgorica\n",
      "Saturday\n",
      "19:11:11\n"
     ]
    }
   ],
   "source": [
    "# dates & times\n",
    "\n",
    "print(fake.date_between(start_date=\"-3y\",end_date=\"-1y\")) # date between 2018 and 2020\n",
    "print(fake.month())\n",
    "print(fake.date_time())\n",
    "print(fake.year())\n",
    "print(fake.month_name())\n",
    "print(fake.date_time_this_year())\n",
    "print(fake.time())\n",
    "print(fake.timezone())\n",
    "print(fake.day_of_week())\n",
    "print(fake.time_object())"
   ]
  },
  {
   "cell_type": "code",
   "execution_count": 9,
   "metadata": {},
   "outputs": [
    {
     "data": {
      "text/plain": [
       "{'username': 'aaronlawrence',\n",
       " 'name': 'Patricia Young',\n",
       " 'sex': 'F',\n",
       " 'address': '475 Richard Place\\nNorth Cesarton, SC 12918',\n",
       " 'mail': 'alicia77@yahoo.com',\n",
       " 'birthdate': datetime.date(1961, 6, 2)}"
      ]
     },
     "execution_count": 9,
     "metadata": {},
     "output_type": "execute_result"
    }
   ],
   "source": [
    "# personal profile\n",
    "\n",
    "generateProfile = Faker()\n",
    "\n",
    "generateProfile.simple_profile() "
   ]
  },
  {
   "cell_type": "code",
   "execution_count": 10,
   "metadata": {},
   "outputs": [
    {
     "data": {
      "text/plain": [
       "{'job': 'Dramatherapist',\n",
       " 'company': 'Herring LLC',\n",
       " 'ssn': '777-92-6356',\n",
       " 'residence': '11819 Mora Tunnel Suite 587\\nEast Donald, UT 08882',\n",
       " 'current_location': (Decimal('-0.306929'), Decimal('109.764130')),\n",
       " 'blood_group': 'A+',\n",
       " 'website': ['https://www.thomas.com/', 'http://harrell-lucas.info/'],\n",
       " 'username': 'katherinemccall',\n",
       " 'name': 'Rebecca Murphy',\n",
       " 'sex': 'F',\n",
       " 'address': '2062 Sanchez Shoal\\nSouth Daniel, ID 99777',\n",
       " 'mail': 'wilsondavid@hotmail.com',\n",
       " 'birthdate': datetime.date(1954, 10, 21)}"
      ]
     },
     "execution_count": 10,
     "metadata": {},
     "output_type": "execute_result"
    }
   ],
   "source": [
    "generateProfile.profile()"
   ]
  },
  {
   "cell_type": "code",
   "execution_count": 11,
   "metadata": {},
   "outputs": [
    {
     "name": "stderr",
     "output_type": "stream",
     "text": [
      "C:\\Users\\jwill\\anaconda3\\lib\\site-packages\\numpy\\_distributor_init.py:30: UserWarning: loaded more than 1 DLL from .libs:\n",
      "C:\\Users\\jwill\\anaconda3\\lib\\site-packages\\numpy\\.libs\\libopenblas.WCDJNK7YVMPZQ2ME2ZZHJJRJ3JIKNDB7.gfortran-win_amd64.dll\n",
      "C:\\Users\\jwill\\anaconda3\\lib\\site-packages\\numpy\\.libs\\libopenblas.XWYDX2IKJW2NMTWSFYNGFUWKQU3LYTCZ.gfortran-win_amd64.dll\n",
      "  warnings.warn(\"loaded more than 1 DLL from .libs:\"\n"
     ]
    },
    {
     "name": "stdout",
     "output_type": "stream",
     "text": [
      "                              job                       company          ssn  \\\n",
      "0                  Prison officer               Saunders-Parker  182-23-5659   \n",
      "1               Buyer, industrial  Parrish, Anderson and Ibarra  083-26-7393   \n",
      "2                   Archaeologist                  Brewer Group  433-91-6566   \n",
      "3                      Cabin crew                Mcdonald-Mason  274-85-2607   \n",
      "4             Trade mark attorney              Escobar and Sons  008-19-2686   \n",
      "..                            ...                           ...          ...   \n",
      "995       General practice doctor                Gordon-Winters  633-15-5147   \n",
      "996                 Meteorologist               Arroyo-Phillips  610-95-6020   \n",
      "997               Careers adviser                Shaffer-Porter  129-73-9848   \n",
      "998  Research officer, government                      Hill LLC  408-54-5067   \n",
      "999    Designer, ceramics/pottery          Key, Jones and Brown  009-33-5078   \n",
      "\n",
      "                                             residence  \\\n",
      "0            074 Nunez Islands\\nMelissashire, MD 46864   \n",
      "1    711 Caldwell Turnpike Suite 679\\nSouth Curtis,...   \n",
      "2        89432 Vega Walks Apt. 954\\nKurtport, OK 20491   \n",
      "3            05238 Mendez Heights\\nCaseyfort, UT 96286   \n",
      "4       08836 Hill Estates\\nSouth Marissaton, NC 60870   \n",
      "..                                                 ...   \n",
      "995  71004 Isaac Causeway Suite 683\\nNorth Catherin...   \n",
      "996                          USNS Garcia\\nFPO AA 51517   \n",
      "997  15599 Samantha Coves\\nSouth Katherineshire, DE...   \n",
      "998                   Unit 8812 Box 3030\\nDPO AP 25023   \n",
      "999   0498 Susan Shoals Apt. 205\\nLaurashire, MS 74643   \n",
      "\n",
      "              current_location blood_group  \\\n",
      "0       (7.164894, -13.431176)         AB+   \n",
      "1       (29.503800, 46.889863)          O-   \n",
      "2      (-48.841470, 53.060653)          A+   \n",
      "3     (-82.944974, -17.780357)         AB+   \n",
      "4      (65.5082605, 30.875361)         AB-   \n",
      "..                         ...         ...   \n",
      "995   (26.595962, -176.632081)         AB-   \n",
      "996    (-61.190801, 10.258299)          A+   \n",
      "997  (-37.0107635, 127.512096)          B+   \n",
      "998  (-71.743131, -119.612711)          B-   \n",
      "999  (-47.1632075, -36.786433)          A-   \n",
      "\n",
      "                                               website        username  \\\n",
      "0    [http://www.perez.com/, https://west-morris.com/]       michael02   \n",
      "1    [http://www.clark.com/, https://mendoza.info/,...    porterthomas   \n",
      "2                        [https://www.schroeder.info/]         kevin58   \n",
      "3    [https://alvarado-smith.net/, https://www.mart...       jeffrey82   \n",
      "4    [https://www.munoz-glover.com/, https://www.ne...      mistyrusso   \n",
      "..                                                 ...             ...   \n",
      "995  [http://www.bond.com/, https://martinez.com/, ...   michaelvaldez   \n",
      "996                               [http://greene.com/]       whitesean   \n",
      "997  [https://stafford.com/, https://frank-johnson....          owelch   \n",
      "998  [http://www.young-williams.info/, https://lamb...       spencer09   \n",
      "999                            [https://stephens.com/]  ronaldmcdonald   \n",
      "\n",
      "                 name sex                                            address  \\\n",
      "0    Christina Farmer   F      224 Nicole Neck Apt. 902\\nCraigberg, CO 23350   \n",
      "1      Crystal Barnes   F             43702 Derek Lodge\\nHenrystad, NE 45898   \n",
      "2    Dominic Oconnell   M  73884 William Station Apt. 223\\nPort Jeffrey, ...   \n",
      "3        Kendra Ramos   F         36899 Denise Camp\\nSouth Matthew, NY 57454   \n",
      "4          Linda Pace   F            520 Coleman Ports\\nThomasfurt, WY 72023   \n",
      "..                ...  ..                                                ...   \n",
      "995     Laura Aguilar   F   1434 David Vista Suite 194\\nEast Julie, NV 15704   \n",
      "996     Richard Gould   M          3713 Deleon Summit\\nArroyomouth, MN 01931   \n",
      "997    Michael Mathis   M  486 Holly Prairie Suite 070\\nNew Gloriabury, L...   \n",
      "998   Heather Coleman   F  34621 Bell Curve Suite 406\\nPort Andrea, OR 06199   \n",
      "999    Kristen Rogers   F  8067 Jones Path Suite 477\\nNew Susanhaven, DE ...   \n",
      "\n",
      "                           mail   birthdate  \n",
      "0       richardstanya@gmail.com  2002-01-10  \n",
      "1    francodanielle@hotmail.com  2014-07-30  \n",
      "2       tracyanderson@yahoo.com  1951-09-08  \n",
      "3              fjames@gmail.com  1927-03-11  \n",
      "4          joseph76@hotmail.com  1995-09-03  \n",
      "..                          ...         ...  \n",
      "995       jacobmaddox@yahoo.com  1973-06-21  \n",
      "996   savannahgomez@hotmail.com  1985-05-07  \n",
      "997           zwatson@yahoo.com  1927-02-12  \n",
      "998  dickersonbarbara@yahoo.com  2003-01-04  \n",
      "999     nashgabrielle@yahoo.com  1977-03-05  \n",
      "\n",
      "[1000 rows x 13 columns]\n"
     ]
    }
   ],
   "source": [
    "import pandas as pd \n",
    "\n",
    "generateProfile = Faker()\n",
    "\n",
    "# generate 1000 profiles \n",
    "data = [generateProfile.profile() for i in range(1000)]\n",
    "\n",
    "# save profiles in pandas dataframe\n",
    "df = pd.DataFrame(data)\n",
    "\n",
    "print(df)"
   ]
  },
  {
   "cell_type": "code",
   "execution_count": 12,
   "metadata": {},
   "outputs": [
    {
     "name": "stdout",
     "output_type": "stream",
     "text": [
      "Index(['job', 'company', 'ssn', 'residence', 'current_location', 'blood_group',\n",
      "       'website', 'username', 'name', 'sex', 'address', 'mail', 'birthdate'],\n",
      "      dtype='object')\n"
     ]
    }
   ],
   "source": [
    "# column names\n",
    "\n",
    "print(df.columns)  "
   ]
  },
  {
   "cell_type": "code",
   "execution_count": 13,
   "metadata": {},
   "outputs": [
    {
     "data": {
      "text/plain": [
       "'Travel full him add rate imagine condition.\\nKnowledge throw none public article wonder. Ability job war television.'"
      ]
     },
     "execution_count": 13,
     "metadata": {},
     "output_type": "execute_result"
    }
   ],
   "source": [
    "# Sentece and Paragraph data\n",
    "\n",
    "# one paragraph\n",
    "generateText = Faker()\n",
    "\n",
    "generateText.text() "
   ]
  },
  {
   "cell_type": "code",
   "execution_count": 14,
   "metadata": {},
   "outputs": [
    {
     "data": {
      "text/plain": [
       "['Day stand himself tonight sign take. Car hot family section. Media until situation recent policy four.\\nConsumer situation really cut them small. Piece direction mention teach answer machine.',\n",
       " 'Medical determine east south resource. Course five feel school center moment quickly. Society member case various reality. Job go represent traditional.',\n",
       " 'Black above work standard part. Direction keep image easy end computer quickly.\\nMain way where along group. Account lay ever site. You hit any people head might.']"
      ]
     },
     "execution_count": 14,
     "metadata": {},
     "output_type": "execute_result"
    }
   ],
   "source": [
    "# multiple paragraphs\n",
    "generateTexts = Faker()\n",
    "\n",
    "generateTexts.texts()"
   ]
  },
  {
   "cell_type": "code",
   "execution_count": 15,
   "metadata": {},
   "outputs": [
    {
     "data": {
      "text/plain": [
       "'With stay force majority when look system ago.'"
      ]
     },
     "execution_count": 15,
     "metadata": {},
     "output_type": "execute_result"
    }
   ],
   "source": [
    "# one sentence\n",
    "generateSentence = Faker()\n",
    "\n",
    "generateSentence.sentence() "
   ]
  },
  {
   "cell_type": "code",
   "execution_count": 16,
   "metadata": {},
   "outputs": [
    {
     "data": {
      "text/plain": [
       "['Pretty effort entire thought personal article personal.',\n",
       " 'Knowledge moment discussion let sell professional.',\n",
       " 'Use several down serious.']"
      ]
     },
     "execution_count": 16,
     "metadata": {},
     "output_type": "execute_result"
    }
   ],
   "source": [
    "# multiple sentences\n",
    "generateSentences = Faker()\n",
    "\n",
    "generateSentences.sentences() "
   ]
  },
  {
   "cell_type": "code",
   "execution_count": 17,
   "metadata": {},
   "outputs": [
    {
     "name": "stdout",
     "output_type": "stream",
     "text": [
      "张敏\n",
      "杜玉珍\n",
      "汪涛\n",
      "刘桂香\n",
      "胡琴\n",
      "白杰\n",
      "王红\n",
      "郑亮\n",
      "冯玉兰\n",
      "王玉华\n"
     ]
    }
   ],
   "source": [
    "# localized data (China 'zh_CN')\n",
    "# names\n",
    "fake_local = Faker('zh_CN')\n",
    "\n",
    "for _ in range(10):\n",
    "    print(fake_local.name())"
   ]
  },
  {
   "cell_type": "code",
   "execution_count": 19,
   "metadata": {},
   "outputs": [
    {
     "name": "stdout",
     "output_type": "stream",
     "text": [
      "静县\n",
      "川崎市高津区\n",
      "桂兰市\n",
      "横浜市青葉区\n",
      "North Mario\n",
      "柳州市\n",
      "Lake Jessica\n",
      "八王子市\n",
      "хутір Волочиськ\n",
      "淮安市\n"
     ]
    }
   ],
   "source": [
    "# multiple locations\n",
    "multiple_fake = Faker(['uk_UA', 'en_US', 'ja_JP','zh_CN'])\n",
    "\n",
    "for _ in range(10):\n",
    "    print(multiple_fake.city())"
   ]
  },
  {
   "cell_type": "code",
   "execution_count": 20,
   "metadata": {},
   "outputs": [
    {
     "name": "stdout",
     "output_type": "stream",
     "text": [
      "Slovakia (Slovak Republic)\n",
      "Kazakhstan\n",
      "Brazil\n",
      "Albania\n",
      "Bermuda\n",
      "United States Minor Outlying Islands\n",
      "Western Sahara\n",
      "Wallis and Futuna\n",
      "Sri Lanka\n",
      "Mozambique\n"
     ]
    }
   ],
   "source": [
    "# countries\n",
    "\n",
    "myGenerator = Faker()\n",
    "\n",
    "myGenerator.random.seed(1234)\n",
    "\n",
    "for i in range(10):\n",
    "    print(myGenerator.country()) "
   ]
  },
  {
   "cell_type": "code",
   "execution_count": null,
   "metadata": {},
   "outputs": [],
   "source": []
  }
 ],
 "metadata": {
  "kernelspec": {
   "display_name": "Python 3",
   "language": "python",
   "name": "python3"
  },
  "language_info": {
   "codemirror_mode": {
    "name": "ipython",
    "version": 3
   },
   "file_extension": ".py",
   "mimetype": "text/x-python",
   "name": "python",
   "nbconvert_exporter": "python",
   "pygments_lexer": "ipython3",
   "version": "3.8.5"
  }
 },
 "nbformat": 4,
 "nbformat_minor": 4
}
